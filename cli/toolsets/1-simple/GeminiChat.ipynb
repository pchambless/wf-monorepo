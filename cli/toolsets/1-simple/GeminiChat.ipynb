{
 "cells": [
  {
   "cell_type": "markdown",
   "id": "abc2d08a",
   "metadata": {},
   "source": [
    "# Gemini Flash Chat for WhatsFresh Tasks\n",
    "\n",
    "This notebook provides an interactive environment for working with WhatsFresh tasks using Gemini Flash through GitHub Copilot.\n",
    "\n",
    "## Features:\n",
    "- Handles tasks of different complexities (low, medium)\n",
    "- Shows task context and requirements\n",
    "- Displays relevant toolset patterns\n",
    "- Maintains chat history for each task\n",
    "\n",
    "## Usage:\n",
    "1. Load task details using `load_task(plan, task_id)`\n",
    "2. View available tools and patterns\n",
    "3. Work interactively with Gemini Flash\n",
    "4. Save useful responses for later reference"
   ]
  },
  {
   "cell_type": "code",
   "execution_count": 4,
   "id": "703ba851",
   "metadata": {},
   "outputs": [],
   "source": [
    "import sys\n",
    "import os\n",
    "from pathlib import Path\n",
    "import json\n",
    "import subprocess\n",
    "\n",
    "# Add CLI directory to path so we can import our modules\n",
    "cli_dir = Path.cwd().parent\n",
    "if str(cli_dir) not in sys.path:\n",
    "    sys.path.append(str(cli_dir))\n",
    "\n",
    "class TaskChat:\n",
    "    def __init__(self):\n",
    "        self.current_task = None\n",
    "        self.chat_history = []\n",
    "        \n",
    "    def load_task(self, plan: str, task_id: str):\n",
    "        \"\"\"Load task details and generate initial prompt\"\"\"\n",
    "        # Get task routing info by running the JS modules\n",
    "        routing_cmd = f\"node {cli_dir}/TaskRouter.js {plan} {task_id}\"\n",
    "        routing_result = subprocess.run(routing_cmd, shell=True, capture_output=True, text=True)\n",
    "        routing = json.loads(routing_result.stdout)\n",
    "        \n",
    "        # Generate full prompt\n",
    "        prompt_cmd = f\"node {cli_dir}/generate-prompt.js {plan} {task_id}\"\n",
    "        prompt_result = subprocess.run(prompt_cmd, shell=True, capture_output=True, text=True)\n",
    "        prompt = prompt_result.stdout\n",
    "        \n",
    "        self.current_task = {\n",
    "            \"plan\": plan,\n",
    "            \"taskId\": task_id,\n",
    "            \"routing\": routing,\n",
    "            \"prompt\": prompt\n",
    "        }\n",
    "        \n",
    "        print(f\"Loaded task {task_id} from plan {plan}\")\n",
    "        print(f\"Model: {routing['model']}\")\n",
    "        print(f\"Complexity: {routing['complexity']}\")\n",
    "        print(\"\\nInitial prompt generated. Ready for chat!\")"
   ]
  },
  {
   "cell_type": "code",
   "execution_count": null,
   "id": "d1ecb2ec",
   "metadata": {},
   "outputs": [],
   "source": []
  },
  {
   "cell_type": "code",
   "execution_count": 5,
   "id": "05e9ca35",
   "metadata": {},
   "outputs": [
    {
     "name": "stdout",
     "output_type": "stream",
     "text": [
      "Error loading task routing info: Invalid JSON output from TaskRouter.js\n",
      "stdout: \n",
      "stderr: node:internal/modules/cjs/loader:1404\n",
      "  throw err;\n",
      "  ^\n",
      "\n",
      "Error: Cannot find module '/home/paul/wf-monorepo-new/cli/toolsets/TaskRouter.js'\n",
      "\u001b[90m    at Function._resolveFilename (node:internal/modules/cjs/loader:1401:15)\u001b[39m\n",
      "\u001b[90m    at defaultResolveImpl (node:internal/modules/cjs/loader:1057:19)\u001b[39m\n",
      "\u001b[90m    at resolveForCJSWithHooks (node:internal/modules/cjs/loader:1062:22)\u001b[39m\n",
      "\u001b[90m    at Function._load (node:internal/modules/cjs/loader:1211:37)\u001b[39m\n",
      "\u001b[90m    at TracingChannel.traceSync (node:diagnostics_channel:322:14)\u001b[39m\n",
      "\u001b[90m    at wrapModuleLoad (node:internal/modules/cjs/loader:235:24)\u001b[39m\n",
      "\u001b[90m    at Function.executeUserEntryPoint [as runMain] (node:internal/modules/run_main:171:5)\u001b[39m\n",
      "\u001b[90m    at node:internal/main/run_main_module:36:49\u001b[39m {\n",
      "  code: \u001b[32m'MODULE_NOT_FOUND'\u001b[39m,\n",
      "  requireStack: []\n",
      "}\n",
      "\n",
      "Node.js v22.17.0\n",
      "\n"
     ]
    },
    {
     "ename": "JSONDecodeError",
     "evalue": "Expecting value: line 1 column 1 (char 0)",
     "output_type": "error",
     "traceback": [
      "\u001b[0;31m---------------------------------------------------------------------------\u001b[0m",
      "\u001b[0;31mJSONDecodeError\u001b[0m                           Traceback (most recent call last)",
      "Cell \u001b[0;32mIn[5], line 6\u001b[0m\n\u001b[1;32m      4\u001b[0m \u001b[38;5;66;03m# Example: Load SQL parser task\u001b[39;00m\n\u001b[1;32m      5\u001b[0m \u001b[38;5;28;01mtry\u001b[39;00m:\n\u001b[0;32m----> 6\u001b[0m \t\u001b[43mchat\u001b[49m\u001b[38;5;241;43m.\u001b[39;49m\u001b[43mload_task\u001b[49m\u001b[43m(\u001b[49m\u001b[38;5;124;43m'\u001b[39;49m\u001b[38;5;124;43m0040\u001b[39;49m\u001b[38;5;124;43m'\u001b[39;49m\u001b[43m,\u001b[49m\u001b[43m \u001b[49m\u001b[38;5;124;43m'\u001b[39;49m\u001b[38;5;124;43m2.1\u001b[39;49m\u001b[38;5;124;43m'\u001b[39;49m\u001b[43m)\u001b[49m\n\u001b[1;32m      7\u001b[0m \u001b[38;5;28;01mexcept\u001b[39;00m json\u001b[38;5;241m.\u001b[39mJSONDecodeError \u001b[38;5;28;01mas\u001b[39;00m e:\n\u001b[1;32m      8\u001b[0m \t\u001b[38;5;28mprint\u001b[39m(\u001b[38;5;124m\"\u001b[39m\u001b[38;5;124mError loading task routing info: Invalid JSON output from TaskRouter.js\u001b[39m\u001b[38;5;124m\"\u001b[39m)\n",
      "Cell \u001b[0;32mIn[4], line 22\u001b[0m, in \u001b[0;36mTaskChat.load_task\u001b[0;34m(self, plan, task_id)\u001b[0m\n\u001b[1;32m     20\u001b[0m routing_cmd \u001b[38;5;241m=\u001b[39m \u001b[38;5;124mf\u001b[39m\u001b[38;5;124m\"\u001b[39m\u001b[38;5;124mnode \u001b[39m\u001b[38;5;132;01m{\u001b[39;00mcli_dir\u001b[38;5;132;01m}\u001b[39;00m\u001b[38;5;124m/TaskRouter.js \u001b[39m\u001b[38;5;132;01m{\u001b[39;00mplan\u001b[38;5;132;01m}\u001b[39;00m\u001b[38;5;124m \u001b[39m\u001b[38;5;132;01m{\u001b[39;00mtask_id\u001b[38;5;132;01m}\u001b[39;00m\u001b[38;5;124m\"\u001b[39m\n\u001b[1;32m     21\u001b[0m routing_result \u001b[38;5;241m=\u001b[39m subprocess\u001b[38;5;241m.\u001b[39mrun(routing_cmd, shell\u001b[38;5;241m=\u001b[39m\u001b[38;5;28;01mTrue\u001b[39;00m, capture_output\u001b[38;5;241m=\u001b[39m\u001b[38;5;28;01mTrue\u001b[39;00m, text\u001b[38;5;241m=\u001b[39m\u001b[38;5;28;01mTrue\u001b[39;00m)\n\u001b[0;32m---> 22\u001b[0m routing \u001b[38;5;241m=\u001b[39m \u001b[43mjson\u001b[49m\u001b[38;5;241;43m.\u001b[39;49m\u001b[43mloads\u001b[49m\u001b[43m(\u001b[49m\u001b[43mrouting_result\u001b[49m\u001b[38;5;241;43m.\u001b[39;49m\u001b[43mstdout\u001b[49m\u001b[43m)\u001b[49m\n\u001b[1;32m     24\u001b[0m \u001b[38;5;66;03m# Generate full prompt\u001b[39;00m\n\u001b[1;32m     25\u001b[0m prompt_cmd \u001b[38;5;241m=\u001b[39m \u001b[38;5;124mf\u001b[39m\u001b[38;5;124m\"\u001b[39m\u001b[38;5;124mnode \u001b[39m\u001b[38;5;132;01m{\u001b[39;00mcli_dir\u001b[38;5;132;01m}\u001b[39;00m\u001b[38;5;124m/generate-prompt.js \u001b[39m\u001b[38;5;132;01m{\u001b[39;00mplan\u001b[38;5;132;01m}\u001b[39;00m\u001b[38;5;124m \u001b[39m\u001b[38;5;132;01m{\u001b[39;00mtask_id\u001b[38;5;132;01m}\u001b[39;00m\u001b[38;5;124m\"\u001b[39m\n",
      "File \u001b[0;32m/usr/lib/python3.10/json/__init__.py:346\u001b[0m, in \u001b[0;36mloads\u001b[0;34m(s, cls, object_hook, parse_float, parse_int, parse_constant, object_pairs_hook, **kw)\u001b[0m\n\u001b[1;32m    341\u001b[0m     s \u001b[38;5;241m=\u001b[39m s\u001b[38;5;241m.\u001b[39mdecode(detect_encoding(s), \u001b[38;5;124m'\u001b[39m\u001b[38;5;124msurrogatepass\u001b[39m\u001b[38;5;124m'\u001b[39m)\n\u001b[1;32m    343\u001b[0m \u001b[38;5;28;01mif\u001b[39;00m (\u001b[38;5;28mcls\u001b[39m \u001b[38;5;129;01mis\u001b[39;00m \u001b[38;5;28;01mNone\u001b[39;00m \u001b[38;5;129;01mand\u001b[39;00m object_hook \u001b[38;5;129;01mis\u001b[39;00m \u001b[38;5;28;01mNone\u001b[39;00m \u001b[38;5;129;01mand\u001b[39;00m\n\u001b[1;32m    344\u001b[0m         parse_int \u001b[38;5;129;01mis\u001b[39;00m \u001b[38;5;28;01mNone\u001b[39;00m \u001b[38;5;129;01mand\u001b[39;00m parse_float \u001b[38;5;129;01mis\u001b[39;00m \u001b[38;5;28;01mNone\u001b[39;00m \u001b[38;5;129;01mand\u001b[39;00m\n\u001b[1;32m    345\u001b[0m         parse_constant \u001b[38;5;129;01mis\u001b[39;00m \u001b[38;5;28;01mNone\u001b[39;00m \u001b[38;5;129;01mand\u001b[39;00m object_pairs_hook \u001b[38;5;129;01mis\u001b[39;00m \u001b[38;5;28;01mNone\u001b[39;00m \u001b[38;5;129;01mand\u001b[39;00m \u001b[38;5;129;01mnot\u001b[39;00m kw):\n\u001b[0;32m--> 346\u001b[0m     \u001b[38;5;28;01mreturn\u001b[39;00m \u001b[43m_default_decoder\u001b[49m\u001b[38;5;241;43m.\u001b[39;49m\u001b[43mdecode\u001b[49m\u001b[43m(\u001b[49m\u001b[43ms\u001b[49m\u001b[43m)\u001b[49m\n\u001b[1;32m    347\u001b[0m \u001b[38;5;28;01mif\u001b[39;00m \u001b[38;5;28mcls\u001b[39m \u001b[38;5;129;01mis\u001b[39;00m \u001b[38;5;28;01mNone\u001b[39;00m:\n\u001b[1;32m    348\u001b[0m     \u001b[38;5;28mcls\u001b[39m \u001b[38;5;241m=\u001b[39m JSONDecoder\n",
      "File \u001b[0;32m/usr/lib/python3.10/json/decoder.py:337\u001b[0m, in \u001b[0;36mJSONDecoder.decode\u001b[0;34m(self, s, _w)\u001b[0m\n\u001b[1;32m    332\u001b[0m \u001b[38;5;28;01mdef\u001b[39;00m\u001b[38;5;250m \u001b[39m\u001b[38;5;21mdecode\u001b[39m(\u001b[38;5;28mself\u001b[39m, s, _w\u001b[38;5;241m=\u001b[39mWHITESPACE\u001b[38;5;241m.\u001b[39mmatch):\n\u001b[1;32m    333\u001b[0m \u001b[38;5;250m    \u001b[39m\u001b[38;5;124;03m\"\"\"Return the Python representation of ``s`` (a ``str`` instance\u001b[39;00m\n\u001b[1;32m    334\u001b[0m \u001b[38;5;124;03m    containing a JSON document).\u001b[39;00m\n\u001b[1;32m    335\u001b[0m \n\u001b[1;32m    336\u001b[0m \u001b[38;5;124;03m    \"\"\"\u001b[39;00m\n\u001b[0;32m--> 337\u001b[0m     obj, end \u001b[38;5;241m=\u001b[39m \u001b[38;5;28;43mself\u001b[39;49m\u001b[38;5;241;43m.\u001b[39;49m\u001b[43mraw_decode\u001b[49m\u001b[43m(\u001b[49m\u001b[43ms\u001b[49m\u001b[43m,\u001b[49m\u001b[43m \u001b[49m\u001b[43midx\u001b[49m\u001b[38;5;241;43m=\u001b[39;49m\u001b[43m_w\u001b[49m\u001b[43m(\u001b[49m\u001b[43ms\u001b[49m\u001b[43m,\u001b[49m\u001b[43m \u001b[49m\u001b[38;5;241;43m0\u001b[39;49m\u001b[43m)\u001b[49m\u001b[38;5;241;43m.\u001b[39;49m\u001b[43mend\u001b[49m\u001b[43m(\u001b[49m\u001b[43m)\u001b[49m\u001b[43m)\u001b[49m\n\u001b[1;32m    338\u001b[0m     end \u001b[38;5;241m=\u001b[39m _w(s, end)\u001b[38;5;241m.\u001b[39mend()\n\u001b[1;32m    339\u001b[0m     \u001b[38;5;28;01mif\u001b[39;00m end \u001b[38;5;241m!=\u001b[39m \u001b[38;5;28mlen\u001b[39m(s):\n",
      "File \u001b[0;32m/usr/lib/python3.10/json/decoder.py:355\u001b[0m, in \u001b[0;36mJSONDecoder.raw_decode\u001b[0;34m(self, s, idx)\u001b[0m\n\u001b[1;32m    353\u001b[0m     obj, end \u001b[38;5;241m=\u001b[39m \u001b[38;5;28mself\u001b[39m\u001b[38;5;241m.\u001b[39mscan_once(s, idx)\n\u001b[1;32m    354\u001b[0m \u001b[38;5;28;01mexcept\u001b[39;00m \u001b[38;5;167;01mStopIteration\u001b[39;00m \u001b[38;5;28;01mas\u001b[39;00m err:\n\u001b[0;32m--> 355\u001b[0m     \u001b[38;5;28;01mraise\u001b[39;00m JSONDecodeError(\u001b[38;5;124m\"\u001b[39m\u001b[38;5;124mExpecting value\u001b[39m\u001b[38;5;124m\"\u001b[39m, s, err\u001b[38;5;241m.\u001b[39mvalue) \u001b[38;5;28;01mfrom\u001b[39;00m\u001b[38;5;250m \u001b[39m\u001b[38;5;28;01mNone\u001b[39;00m\n\u001b[1;32m    356\u001b[0m \u001b[38;5;28;01mreturn\u001b[39;00m obj, end\n",
      "\u001b[0;31mJSONDecodeError\u001b[0m: Expecting value: line 1 column 1 (char 0)"
     ]
    }
   ],
   "source": [
    "# Create chat instance\n",
    "chat = TaskChat()\n",
    "\n",
    "# Example: Load SQL parser task\n",
    "try:\n",
    "\tchat.load_task('0040', '2.1')\n",
    "except json.JSONDecodeError as e:\n",
    "\tprint(\"Error loading task routing info: Invalid JSON output from TaskRouter.js\")\n",
    "\tprint(\"stdout:\", subprocess.run(f\"node {cli_dir}/TaskRouter.js 0040 2.1\", shell=True, capture_output=True, text=True).stdout)\n",
    "\tprint(\"stderr:\", subprocess.run(f\"node {cli_dir}/TaskRouter.js 0040 2.1\", shell=True, capture_output=True, text=True).stderr)\n",
    "\traise\n",
    "\n",
    "# The prompt is now available in chat.current_task['prompt']\n",
    "# You can copy it to clipboard or print it:\n",
    "print(\"\\nTask Prompt:\")\n",
    "print(\"-\" * 80)\n",
    "print(chat.current_task['prompt'])"
   ]
  }
 ],
 "metadata": {
  "kernelspec": {
   "display_name": "Python 3",
   "language": "python",
   "name": "python3"
  },
  "language_info": {
   "codemirror_mode": {
    "name": "ipython",
    "version": 3
   },
   "file_extension": ".py",
   "mimetype": "text/x-python",
   "name": "python",
   "nbconvert_exporter": "python",
   "pygments_lexer": "ipython3",
   "version": "3.10.12"
  }
 },
 "nbformat": 4,
 "nbformat_minor": 5
}
