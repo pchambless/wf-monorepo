{
 "cells": [
  {
   "cell_type": "markdown",
   "id": "abc2d08a",
   "metadata": {},
   "source": [
    "# Gemini Flash Chat for WhatsFresh Tasks\n",
    "\n",
    "This notebook provides an interactive environment for working with WhatsFresh tasks using Gemini Flash through GitHub Copilot.\n",
    "\n",
    "## Features:\n",
    "- Handles tasks of different complexities (low, medium)\n",
    "- Shows task context and requirements\n",
    "- Displays relevant toolset patterns\n",
    "- Maintains chat history for each task\n",
    "\n",
    "## Usage:\n",
    "1. Load task details using `load_task(plan, task_id)`\n",
    "2. View available tools and patterns\n",
    "3. Work interactively with Gemini Flash\n",
    "4. Save useful responses for later reference"
   ]
  },
  {
   "cell_type": "code",
   "execution_count": null,
   "id": "703ba851",
   "metadata": {},
   "outputs": [],
   "source": [
    "import sys\n",
    "import os\n",
    "from pathlib import Path\n",
    "import json\n",
    "\n",
    "# Add CLI directory to path so we can import our modules\n",
    "cli_dir = Path.cwd().parent\n",
    "if str(cli_dir) not in sys.path:\n",
    "    sys.path.append(str(cli_dir))\n",
    "\n",
    "from TaskRouter import TaskRouter\n",
    "from PromptGenerator import PromptGenerator\n",
    "\n",
    "class TaskChat:\n",
    "    def __init__(self):\n",
    "        self.router = TaskRouter()\n",
    "        self.generator = PromptGenerator()\n",
    "        self.current_task = None\n",
    "        self.chat_history = []\n",
    "        \n",
    "    def load_task(self, plan: str, task_id: str):\n",
    "        \"\"\"Load task details and generate initial prompt\"\"\"\n",
    "        # Get task routing info\n",
    "        routing = self.router.routeTask(plan, task_id)\n",
    "        \n",
    "        # Generate full prompt\n",
    "        prompt = self.generator.generatePrompt(plan, task_id)\n",
    "        \n",
    "        self.current_task = {\n",
    "            \"plan\": plan,\n",
    "            \"taskId\": task_id,\n",
    "            \"routing\": routing,\n",
    "            \"prompt\": prompt\n",
    "        }\n",
    "        \n",
    "        print(f\"Loaded task {task_id} from plan {plan}\")\n",
    "        print(f\"Model: {routing['model']}\")\n",
    "        print(f\"Complexity: {routing['complexity']}\")\n",
    "        print(\"\\nInitial prompt generated. Ready for chat!\")"
   ]
  },
  {
   "cell_type": "code",
   "execution_count": null,
   "id": "05e9ca35",
   "metadata": {},
   "outputs": [],
   "source": [
    "# Create chat instance\n",
    "chat = TaskChat()\n",
    "\n",
    "# Example: Load SQL parser task\n",
    "chat.load_task('0040', '2.1')\n",
    "\n",
    "# The prompt is now available in chat.current_task['prompt']\n",
    "# You can copy it to clipboard or print it:\n",
    "print(\"\\nTask Prompt:\")\n",
    "print(\"-\" * 80)\n",
    "print(chat.current_task['prompt'])"
   ]
  }
 ],
 "metadata": {
  "language_info": {
   "name": "python"
  }
 },
 "nbformat": 4,
 "nbformat_minor": 5
}
